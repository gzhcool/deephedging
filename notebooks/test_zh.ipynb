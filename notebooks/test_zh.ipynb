{
 "cells": [
  {
   "cell_type": "code",
   "execution_count": 6,
   "id": "a300ccb0",
   "metadata": {
    "scrolled": true
   },
   "outputs": [],
   "source": [
    "import tensorflow as tf"
   ]
  },
  {
   "cell_type": "code",
   "execution_count": 7,
   "id": "593c66ae",
   "metadata": {},
   "outputs": [
    {
     "data": {
      "text/plain": [
       "[PhysicalDevice(name='/physical_device:CPU:0', device_type='CPU'),\n",
       " PhysicalDevice(name='/physical_device:GPU:0', device_type='GPU')]"
      ]
     },
     "execution_count": 7,
     "metadata": {},
     "output_type": "execute_result"
    }
   ],
   "source": [
    "tf.config.list_physical_devices()"
   ]
  },
  {
   "cell_type": "code",
   "execution_count": 2,
   "id": "1fc3f40d",
   "metadata": {},
   "outputs": [
    {
     "name": "stdout",
     "output_type": "stream",
     "text": [
      "Downloading data from https://www.cs.toronto.edu/~kriz/cifar-100-python.tar.gz\n",
      "169001437/169001437 [==============================] - 16s 0us/step\n"
     ]
    }
   ],
   "source": [
    "cifar = tf.keras.datasets.cifar100\n",
    "(x_train, y_train), (x_test, y_test) = cifar.load_data()"
   ]
  },
  {
   "cell_type": "code",
   "execution_count": 8,
   "id": "3bce860f",
   "metadata": {},
   "outputs": [],
   "source": [
    "model = tf.keras.applications.ResNet50(\n",
    "    include_top=True,\n",
    "    weights=None,\n",
    "    input_shape=(32, 32, 3),\n",
    "    classes=100,)\n",
    "\n",
    "loss_fn = tf.keras.losses.SparseCategoricalCrossentropy(from_logits=True)\n",
    "model.compile(optimizer=\"adam\", loss=loss_fn, metrics=[\"accuracy\"])"
   ]
  },
  {
   "cell_type": "code",
   "execution_count": null,
   "id": "dd9c37ae",
   "metadata": {},
   "outputs": [
    {
     "name": "stdout",
     "output_type": "stream",
     "text": [
      "Epoch 1/5\n"
     ]
    },
    {
     "name": "stderr",
     "output_type": "stream",
     "text": [
      "2023-05-17 01:53:16.282687: I tensorflow/core/grappler/optimizers/custom_graph_optimizer_registry.cc:114] Plugin optimizer for device_type GPU is enabled.\n"
     ]
    },
    {
     "name": "stdout",
     "output_type": "stream",
     "text": [
      "782/782 [==============================] - 67s 81ms/step - loss: 4.7888 - accuracy: 0.0705\n",
      "Epoch 2/5\n",
      "386/782 [=============>................] - ETA: 30s - loss: 4.4224 - accuracy: 0.0980"
     ]
    }
   ],
   "source": [
    "model.fit(x_train, y_train, epochs=5, batch_size=64)"
   ]
  },
  {
   "cell_type": "code",
   "execution_count": 7,
   "id": "159f4459",
   "metadata": {},
   "outputs": [
    {
     "data": {
      "text/plain": [
       "array([[0.46683661, 0.80398027],\n",
       "       [0.33444472, 0.25772158],\n",
       "       [0.29179678, 0.57681817],\n",
       "       [0.29429115, 0.18391033],\n",
       "       [0.27938592, 0.96661556],\n",
       "       [0.91828227, 0.2430433 ],\n",
       "       [0.75951748, 0.60578919],\n",
       "       [0.36460157, 0.37380373],\n",
       "       [0.64500227, 0.35875453],\n",
       "       [0.07751354, 0.08266184]])"
      ]
     },
     "execution_count": 7,
     "metadata": {},
     "output_type": "execute_result"
    }
   ],
   "source": [
    "import numpy as np\n",
    "x= np.random.random((10,2))\n",
    "x"
   ]
  },
  {
   "cell_type": "code",
   "execution_count": 8,
   "id": "c0dc07c3",
   "metadata": {},
   "outputs": [
    {
     "data": {
      "text/plain": [
       "array([0.80398027, 0.25772158, 0.57681817, 0.18391033, 0.96661556,\n",
       "       0.2430433 , 0.60578919, 0.37380373, 0.35875453, 0.08266184])"
      ]
     },
     "execution_count": 8,
     "metadata": {},
     "output_type": "execute_result"
    }
   ],
   "source": [
    "x[:,-1]"
   ]
  },
  {
   "cell_type": "code",
   "execution_count": 1,
   "id": "9f0b4e1a",
   "metadata": {},
   "outputs": [
    {
     "data": {
      "text/plain": [
       "range(1, 6)"
      ]
     },
     "execution_count": 1,
     "metadata": {},
     "output_type": "execute_result"
    }
   ],
   "source": [
    "range(1,6)"
   ]
  },
  {
   "cell_type": "code",
   "execution_count": 2,
   "id": "89746c43",
   "metadata": {},
   "outputs": [
    {
     "data": {
      "text/plain": [
       "[1, 2, 3, 4, 5]"
      ]
     },
     "execution_count": 2,
     "metadata": {},
     "output_type": "execute_result"
    }
   ],
   "source": [
    "list(range(1,6\n",
    "          ))"
   ]
  },
  {
   "cell_type": "code",
   "execution_count": 3,
   "id": "74e34209",
   "metadata": {},
   "outputs": [],
   "source": [
    "biu = [1,2,3,4]"
   ]
  },
  {
   "cell_type": "code",
   "execution_count": 4,
   "id": "03fc5168",
   "metadata": {},
   "outputs": [
    {
     "data": {
      "text/plain": [
       "[1, 2, 3, 4]"
      ]
     },
     "execution_count": 4,
     "metadata": {},
     "output_type": "execute_result"
    }
   ],
   "source": [
    "biu\n"
   ]
  },
  {
   "cell_type": "code",
   "execution_count": 6,
   "id": "025871d5",
   "metadata": {},
   "outputs": [
    {
     "data": {
      "text/plain": [
       "[[1, 2, 3], [2, 3, 4]]"
      ]
     },
     "execution_count": 6,
     "metadata": {},
     "output_type": "execute_result"
    }
   ],
   "source": [
    "[[1,2,3],[2,3,4]]"
   ]
  },
  {
   "cell_type": "code",
   "execution_count": 7,
   "id": "243dd177",
   "metadata": {},
   "outputs": [
    {
     "data": {
      "text/plain": [
       "[[[1, 2, 3], [2, 3, 4]], [[3, 4, 5], [4, 5, 6]]]"
      ]
     },
     "execution_count": 7,
     "metadata": {},
     "output_type": "execute_result"
    }
   ],
   "source": [
    "[[[1,2,3],[2,3,4]],\n",
    "[[3,4,5],[4,5,6]]]"
   ]
  },
  {
   "cell_type": "code",
   "execution_count": 8,
   "id": "e20255c1",
   "metadata": {},
   "outputs": [],
   "source": [
    "biu2= [[[1,2,3],[2,3,4]],\n",
    "[[3,4,5],[4,5,6]]]\n"
   ]
  },
  {
   "cell_type": "code",
   "execution_count": 9,
   "id": "8348cbe9",
   "metadata": {},
   "outputs": [
    {
     "data": {
      "text/plain": [
       "[[3, 4, 5], [4, 5, 6]]"
      ]
     },
     "execution_count": 9,
     "metadata": {},
     "output_type": "execute_result"
    }
   ],
   "source": [
    "biu2[1]"
   ]
  },
  {
   "cell_type": "code",
   "execution_count": 11,
   "id": "806900a1",
   "metadata": {},
   "outputs": [
    {
     "data": {
      "text/plain": [
       "[[1, 2, 3], [2, 3, 4]]"
      ]
     },
     "execution_count": 11,
     "metadata": {},
     "output_type": "execute_result"
    }
   ],
   "source": [
    "biu2[0]"
   ]
  },
  {
   "cell_type": "code",
   "execution_count": 16,
   "id": "43a46368",
   "metadata": {},
   "outputs": [
    {
     "data": {
      "text/plain": [
       "1"
      ]
     },
     "execution_count": 16,
     "metadata": {},
     "output_type": "execute_result"
    }
   ],
   "source": [
    "biu2[0][0][0]"
   ]
  },
  {
   "cell_type": "code",
   "execution_count": 24,
   "id": "ae096c02",
   "metadata": {},
   "outputs": [],
   "source": [
    "import numpy as np\n",
    "x= np.random.random((32,10))\n",
    "y= np.random.random((10,))"
   ]
  },
  {
   "cell_type": "code",
   "execution_count": 25,
   "id": "75722689",
   "metadata": {},
   "outputs": [
    {
     "data": {
      "text/plain": [
       "array([0.70990952, 0.27270115, 0.79043622, 0.27613101, 0.97769732,\n",
       "       0.58957234, 0.32911854, 0.2865084 , 0.29064326, 0.35392086])"
      ]
     },
     "execution_count": 25,
     "metadata": {},
     "output_type": "execute_result"
    }
   ],
   "source": [
    "y"
   ]
  },
  {
   "cell_type": "code",
   "execution_count": 28,
   "id": "c15fcef2",
   "metadata": {},
   "outputs": [],
   "source": [
    "y= np.expand_dims(y, axis= 0)"
   ]
  },
  {
   "cell_type": "code",
   "execution_count": 29,
   "id": "9e7f6deb",
   "metadata": {},
   "outputs": [
    {
     "data": {
      "text/plain": [
       "array([[0.70990952, 0.27270115, 0.79043622, 0.27613101, 0.97769732,\n",
       "        0.58957234, 0.32911854, 0.2865084 , 0.29064326, 0.35392086]])"
      ]
     },
     "execution_count": 29,
     "metadata": {},
     "output_type": "execute_result"
    }
   ],
   "source": [
    "y"
   ]
  },
  {
   "cell_type": "code",
   "execution_count": 30,
   "id": "87fc6c95",
   "metadata": {},
   "outputs": [
    {
     "data": {
      "text/plain": [
       "[array([[0.70990952, 0.27270115, 0.79043622, 0.27613101, 0.97769732,\n",
       "         0.58957234, 0.32911854, 0.2865084 , 0.29064326, 0.35392086]])]"
      ]
     },
     "execution_count": 30,
     "metadata": {},
     "output_type": "execute_result"
    }
   ],
   "source": [
    "[y]"
   ]
  },
  {
   "cell_type": "code",
   "execution_count": 31,
   "id": "b6beb2a6",
   "metadata": {},
   "outputs": [
    {
     "data": {
      "text/plain": [
       "[array([[0.70990952, 0.27270115, 0.79043622, 0.27613101, 0.97769732,\n",
       "         0.58957234, 0.32911854, 0.2865084 , 0.29064326, 0.35392086]]),\n",
       " array([[0.70990952, 0.27270115, 0.79043622, 0.27613101, 0.97769732,\n",
       "         0.58957234, 0.32911854, 0.2865084 , 0.29064326, 0.35392086]]),\n",
       " array([[0.70990952, 0.27270115, 0.79043622, 0.27613101, 0.97769732,\n",
       "         0.58957234, 0.32911854, 0.2865084 , 0.29064326, 0.35392086]]),\n",
       " array([[0.70990952, 0.27270115, 0.79043622, 0.27613101, 0.97769732,\n",
       "         0.58957234, 0.32911854, 0.2865084 , 0.29064326, 0.35392086]]),\n",
       " array([[0.70990952, 0.27270115, 0.79043622, 0.27613101, 0.97769732,\n",
       "         0.58957234, 0.32911854, 0.2865084 , 0.29064326, 0.35392086]]),\n",
       " array([[0.70990952, 0.27270115, 0.79043622, 0.27613101, 0.97769732,\n",
       "         0.58957234, 0.32911854, 0.2865084 , 0.29064326, 0.35392086]]),\n",
       " array([[0.70990952, 0.27270115, 0.79043622, 0.27613101, 0.97769732,\n",
       "         0.58957234, 0.32911854, 0.2865084 , 0.29064326, 0.35392086]]),\n",
       " array([[0.70990952, 0.27270115, 0.79043622, 0.27613101, 0.97769732,\n",
       "         0.58957234, 0.32911854, 0.2865084 , 0.29064326, 0.35392086]]),\n",
       " array([[0.70990952, 0.27270115, 0.79043622, 0.27613101, 0.97769732,\n",
       "         0.58957234, 0.32911854, 0.2865084 , 0.29064326, 0.35392086]]),\n",
       " array([[0.70990952, 0.27270115, 0.79043622, 0.27613101, 0.97769732,\n",
       "         0.58957234, 0.32911854, 0.2865084 , 0.29064326, 0.35392086]]),\n",
       " array([[0.70990952, 0.27270115, 0.79043622, 0.27613101, 0.97769732,\n",
       "         0.58957234, 0.32911854, 0.2865084 , 0.29064326, 0.35392086]]),\n",
       " array([[0.70990952, 0.27270115, 0.79043622, 0.27613101, 0.97769732,\n",
       "         0.58957234, 0.32911854, 0.2865084 , 0.29064326, 0.35392086]]),\n",
       " array([[0.70990952, 0.27270115, 0.79043622, 0.27613101, 0.97769732,\n",
       "         0.58957234, 0.32911854, 0.2865084 , 0.29064326, 0.35392086]]),\n",
       " array([[0.70990952, 0.27270115, 0.79043622, 0.27613101, 0.97769732,\n",
       "         0.58957234, 0.32911854, 0.2865084 , 0.29064326, 0.35392086]]),\n",
       " array([[0.70990952, 0.27270115, 0.79043622, 0.27613101, 0.97769732,\n",
       "         0.58957234, 0.32911854, 0.2865084 , 0.29064326, 0.35392086]]),\n",
       " array([[0.70990952, 0.27270115, 0.79043622, 0.27613101, 0.97769732,\n",
       "         0.58957234, 0.32911854, 0.2865084 , 0.29064326, 0.35392086]]),\n",
       " array([[0.70990952, 0.27270115, 0.79043622, 0.27613101, 0.97769732,\n",
       "         0.58957234, 0.32911854, 0.2865084 , 0.29064326, 0.35392086]]),\n",
       " array([[0.70990952, 0.27270115, 0.79043622, 0.27613101, 0.97769732,\n",
       "         0.58957234, 0.32911854, 0.2865084 , 0.29064326, 0.35392086]]),\n",
       " array([[0.70990952, 0.27270115, 0.79043622, 0.27613101, 0.97769732,\n",
       "         0.58957234, 0.32911854, 0.2865084 , 0.29064326, 0.35392086]]),\n",
       " array([[0.70990952, 0.27270115, 0.79043622, 0.27613101, 0.97769732,\n",
       "         0.58957234, 0.32911854, 0.2865084 , 0.29064326, 0.35392086]]),\n",
       " array([[0.70990952, 0.27270115, 0.79043622, 0.27613101, 0.97769732,\n",
       "         0.58957234, 0.32911854, 0.2865084 , 0.29064326, 0.35392086]]),\n",
       " array([[0.70990952, 0.27270115, 0.79043622, 0.27613101, 0.97769732,\n",
       "         0.58957234, 0.32911854, 0.2865084 , 0.29064326, 0.35392086]]),\n",
       " array([[0.70990952, 0.27270115, 0.79043622, 0.27613101, 0.97769732,\n",
       "         0.58957234, 0.32911854, 0.2865084 , 0.29064326, 0.35392086]]),\n",
       " array([[0.70990952, 0.27270115, 0.79043622, 0.27613101, 0.97769732,\n",
       "         0.58957234, 0.32911854, 0.2865084 , 0.29064326, 0.35392086]]),\n",
       " array([[0.70990952, 0.27270115, 0.79043622, 0.27613101, 0.97769732,\n",
       "         0.58957234, 0.32911854, 0.2865084 , 0.29064326, 0.35392086]]),\n",
       " array([[0.70990952, 0.27270115, 0.79043622, 0.27613101, 0.97769732,\n",
       "         0.58957234, 0.32911854, 0.2865084 , 0.29064326, 0.35392086]]),\n",
       " array([[0.70990952, 0.27270115, 0.79043622, 0.27613101, 0.97769732,\n",
       "         0.58957234, 0.32911854, 0.2865084 , 0.29064326, 0.35392086]]),\n",
       " array([[0.70990952, 0.27270115, 0.79043622, 0.27613101, 0.97769732,\n",
       "         0.58957234, 0.32911854, 0.2865084 , 0.29064326, 0.35392086]]),\n",
       " array([[0.70990952, 0.27270115, 0.79043622, 0.27613101, 0.97769732,\n",
       "         0.58957234, 0.32911854, 0.2865084 , 0.29064326, 0.35392086]]),\n",
       " array([[0.70990952, 0.27270115, 0.79043622, 0.27613101, 0.97769732,\n",
       "         0.58957234, 0.32911854, 0.2865084 , 0.29064326, 0.35392086]]),\n",
       " array([[0.70990952, 0.27270115, 0.79043622, 0.27613101, 0.97769732,\n",
       "         0.58957234, 0.32911854, 0.2865084 , 0.29064326, 0.35392086]]),\n",
       " array([[0.70990952, 0.27270115, 0.79043622, 0.27613101, 0.97769732,\n",
       "         0.58957234, 0.32911854, 0.2865084 , 0.29064326, 0.35392086]])]"
      ]
     },
     "execution_count": 31,
     "metadata": {},
     "output_type": "execute_result"
    }
   ],
   "source": [
    "[y]*32"
   ]
  },
  {
   "cell_type": "code",
   "execution_count": 33,
   "id": "b111b13f",
   "metadata": {},
   "outputs": [
    {
     "data": {
      "text/plain": [
       "[(0, 'a'), (1, 'b'), (2, 'c')]"
      ]
     },
     "execution_count": 33,
     "metadata": {},
     "output_type": "execute_result"
    }
   ],
   "source": [
    "list(enumerate([\"a\",\"b\",\"c\"]))"
   ]
  },
  {
   "cell_type": "code",
   "execution_count": 34,
   "id": "da2b47ba",
   "metadata": {},
   "outputs": [
    {
     "data": {
      "text/plain": [
       "range(1, 6)"
      ]
     },
     "execution_count": 34,
     "metadata": {},
     "output_type": "execute_result"
    }
   ],
   "source": [
    "range(1,6)"
   ]
  },
  {
   "cell_type": "code",
   "execution_count": 3,
   "id": "19adfe35",
   "metadata": {},
   "outputs": [
    {
     "data": {
      "text/plain": [
       "array([[0.96176125, 0.81711456, 0.24286294, 0.72811232, 0.06233572],\n",
       "       [0.23578879, 0.35645286, 0.44039592, 0.38768202, 0.04925443],\n",
       "       [0.79448752, 0.33965918, 0.86603321, 0.75560912, 0.52723588],\n",
       "       [0.83715738, 0.58707063, 0.87553573, 0.51678569, 0.05730022],\n",
       "       [0.58611308, 0.04985855, 0.71669818, 0.06263374, 0.89046098]])"
      ]
     },
     "execution_count": 3,
     "metadata": {},
     "output_type": "execute_result"
    }
   ],
   "source": [
    "import numpy as np\n",
    "from scipy import stats\n",
    "import random \n",
    "np.random.rand(5,5)"
   ]
  },
  {
   "cell_type": "code",
   "execution_count": 4,
   "id": "8fd30a05",
   "metadata": {},
   "outputs": [
    {
     "data": {
      "text/plain": [
       "3"
      ]
     },
     "execution_count": 4,
     "metadata": {},
     "output_type": "execute_result"
    }
   ],
   "source": [
    "np.random.randint(0,5)"
   ]
  },
  {
   "cell_type": "code",
   "execution_count": 8,
   "id": "6f5a38f1",
   "metadata": {},
   "outputs": [
    {
     "data": {
      "text/plain": [
       "0.6050060671375364"
      ]
     },
     "execution_count": 8,
     "metadata": {},
     "output_type": "execute_result"
    }
   ],
   "source": [
    "pow(0.99,50)"
   ]
  },
  {
   "cell_type": "code",
   "execution_count": 11,
   "id": "f9e325cc",
   "metadata": {},
   "outputs": [
    {
     "data": {
      "text/plain": [
       "array([0., 0., 0.])"
      ]
     },
     "execution_count": 11,
     "metadata": {},
     "output_type": "execute_result"
    }
   ],
   "source": [
    "np.zeros((3,))"
   ]
  },
  {
   "cell_type": "code",
   "execution_count": 15,
   "id": "233a181a",
   "metadata": {},
   "outputs": [
    {
     "data": {
      "text/plain": [
       "array([0., 0., 0.])"
      ]
     },
     "execution_count": 15,
     "metadata": {},
     "output_type": "execute_result"
    }
   ],
   "source": [
    "np.zeros(3)"
   ]
  },
  {
   "cell_type": "code",
   "execution_count": null,
   "id": "5788faeb",
   "metadata": {},
   "outputs": [],
   "source": []
  }
 ],
 "metadata": {
  "kernelspec": {
   "display_name": "Python 3 (ipykernel)",
   "language": "python",
   "name": "python3"
  },
  "language_info": {
   "codemirror_mode": {
    "name": "ipython",
    "version": 3
   },
   "file_extension": ".py",
   "mimetype": "text/x-python",
   "name": "python",
   "nbconvert_exporter": "python",
   "pygments_lexer": "ipython3",
   "version": "3.10.8"
  }
 },
 "nbformat": 4,
 "nbformat_minor": 5
}
